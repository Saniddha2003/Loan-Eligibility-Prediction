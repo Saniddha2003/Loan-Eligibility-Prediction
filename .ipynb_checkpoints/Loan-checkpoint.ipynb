{
 "cells": [
  {
   "cell_type": "code",
   "execution_count": 2,
   "id": "142bccb2",
   "metadata": {},
   "outputs": [
    {
     "ename": "NameError",
     "evalue": "name 'streamlit' is not defined",
     "output_type": "error",
     "traceback": [
      "\u001b[1;31m---------------------------------------------------------------------------\u001b[0m",
      "\u001b[1;31mNameError\u001b[0m                                 Traceback (most recent call last)",
      "\u001b[1;32m~\\AppData\\Local\\Temp\\ipykernel_5484\\2417450576.py\u001b[0m in \u001b[0;36m<module>\u001b[1;34m\u001b[0m\n\u001b[1;32m----> 1\u001b[1;33m \u001b[0mstreamlit\u001b[0m \u001b[1;33m-\u001b[0m\u001b[1;33m-\u001b[0m\u001b[0mversion\u001b[0m\u001b[1;33m\u001b[0m\u001b[1;33m\u001b[0m\u001b[0m\n\u001b[0m",
      "\u001b[1;31mNameError\u001b[0m: name 'streamlit' is not defined"
     ]
    }
   ],
   "source": [
    "streamlit --version"
   ]
  },
  {
   "cell_type": "code",
   "execution_count": null,
   "id": "fdaabfbb",
   "metadata": {},
   "outputs": [],
   "source": [
    "pip install streamlit"
   ]
  },
  {
   "cell_type": "code",
   "execution_count": null,
   "id": "a6f01ce5",
   "metadata": {},
   "outputs": [],
   "source": [
    "import streamlit as st\n",
    "import joblib"
   ]
  },
  {
   "cell_type": "code",
   "execution_count": null,
   "id": "95063244",
   "metadata": {},
   "outputs": [],
   "source": [
    "def load():\n",
    "    loaded_model = joblib.load('model.pkl')"
   ]
  },
  {
   "cell_type": "code",
   "execution_count": null,
   "id": "51380e89",
   "metadata": {},
   "outputs": [],
   "source": [
    "st.title('Loan Eligibility Predictor')"
   ]
  },
  {
   "cell_type": "code",
   "execution_count": null,
   "id": "8d339257",
   "metadata": {},
   "outputs": [],
   "source": [
    "gender = st.selectbox(\"GENDER\",('Male','Female'))\n",
    "married = st.selectbox(\"ARE YOU MARRIED?\",('Yes','No'))\n",
    "dependents = st.selectbox(\"DEPENDENTS: \",('0','1','2','3+'))\n",
    "education = st.selectbox(\"ARE YOU GRADUATE?\",('Yes','No'))\n",
    "self_employed = st.selectbox(\"ARE YOU WORKING?\",('Yes','No'))\n",
    "applicant_income = st.number_input(\"APPLICANT INCOME\")\n",
    "coapplicant_income = st.number_input(\"COAPPLICANT INCOME\")\n",
    "loan_amount = st.number_input(\"LOAN AMOUNT\")\n",
    "loan_amount_term = st.selectbox(\"LOAN AMOUNT TERM\",('12','36','60','84','120','180','300','360','480'))\n",
    "credit_history = st.selectbox(\"CREDIT HISTORY\",('0','1'))\n",
    "property_area = st.selectbox(\"PROPERTY AREA\",('Rural','Semiurban','Urban'))"
   ]
  },
  {
   "cell_type": "code",
   "execution_count": null,
   "id": "61d713d4",
   "metadata": {},
   "outputs": [],
   "source": []
  }
 ],
 "metadata": {
  "kernelspec": {
   "display_name": "Python 3 (ipykernel)",
   "language": "python",
   "name": "python3"
  },
  "language_info": {
   "codemirror_mode": {
    "name": "ipython",
    "version": 3
   },
   "file_extension": ".py",
   "mimetype": "text/x-python",
   "name": "python",
   "nbconvert_exporter": "python",
   "pygments_lexer": "ipython3",
   "version": "3.9.13"
  }
 },
 "nbformat": 4,
 "nbformat_minor": 5
}
