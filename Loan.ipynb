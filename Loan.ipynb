{
 "cells": [
  {
   "cell_type": "code",
   "execution_count": 4,
   "id": "a6f01ce5",
   "metadata": {},
   "outputs": [],
   "source": [
    "import streamlit as st\n",
    "import joblib"
   ]
  },
  {
   "cell_type": "code",
   "execution_count": 5,
   "id": "95063244",
   "metadata": {},
   "outputs": [],
   "source": [
    "def load():\n",
    "    loaded_model = joblib.load('model.pkl')"
   ]
  },
  {
   "cell_type": "code",
   "execution_count": 6,
   "id": "51380e89",
   "metadata": {},
   "outputs": [
    {
     "name": "stderr",
     "output_type": "stream",
     "text": [
      "2023-11-01 22:33:53.931 \n",
      "  \u001b[33m\u001b[1mWarning:\u001b[0m to view this Streamlit app on a browser, run it with the following\n",
      "  command:\n",
      "\n",
      "    streamlit run C:\\Users\\Saniddha Ghosh\\anaconda3\\lib\\site-packages\\ipykernel_launcher.py [ARGUMENTS]\n"
     ]
    },
    {
     "data": {
      "text/plain": [
       "DeltaGenerator()"
      ]
     },
     "execution_count": 6,
     "metadata": {},
     "output_type": "execute_result"
    }
   ],
   "source": [
    "st.title('Loan Eligibility Predictor')"
   ]
  },
  {
   "cell_type": "code",
   "execution_count": 7,
   "id": "8d339257",
   "metadata": {},
   "outputs": [],
   "source": [
    "gender = st.selectbox(\"GENDER\",('Male','Female'))\n",
    "married = st.selectbox(\"ARE YOU MARRIED?\",('Yes','No'))\n",
    "dependents = st.selectbox(\"DEPENDENTS: \",('0','1','2','3+'))\n",
    "education = st.selectbox(\"ARE YOU GRADUATE?\",('Yes','No'))\n",
    "self_employed = st.selectbox(\"ARE YOU WORKING?\",('Yes','No'))\n",
    "applicant_income = st.number_input(\"APPLICANT INCOME\")\n",
    "coapplicant_income = st.number_input(\"COAPPLICANT INCOME\")\n",
    "loan_amount = st.number_input(\"LOAN AMOUNT\")\n",
    "loan_amount_term = st.selectbox(\"LOAN AMOUNT TERM\",('12','36','60','84','120','180','300','360','480'))\n",
    "credit_history = st.selectbox(\"CREDIT HISTORY\",('0','1'))\n",
    "property_area = st.selectbox(\"PROPERTY AREA\",('Rural','Semiurban','Urban'))"
   ]
  },
  {
   "cell_type": "code",
   "execution_count": 8,
   "id": "61d713d4",
   "metadata": {},
   "outputs": [],
   "source": [
    "#!/usr/bin/env python\n",
    "# coding: utf-8\n",
    "\n",
    "# In[4]:\n",
    "\n",
    "\n",
    "import streamlit as st\n",
    "import joblib\n",
    "import pandas as pd\n",
    "\n",
    "# In[5]:\n",
    "\n",
    "\n",
    "def load():\n",
    "    loaded_model = joblib.load('C:\\\\Users\\\\Saniddha Ghosh\\\\Project\\\\model.pkl')\n",
    "    return loaded_model\n",
    "\n",
    "\n",
    "# In[6]:\n",
    "\n",
    "\n",
    "st.title('Loan Eligibility Predictor')\n",
    "\n",
    "\n",
    "# In[7]:\n",
    "\n",
    "\n",
    "gender = st.selectbox(\"GENDER\",('Male','Female'))\n",
    "married = st.selectbox(\"ARE YOU MARRIED?\",('Yes','No'))\n",
    "dependents = st.selectbox(\"DEPENDENTS: \",('0','1'))\n",
    "education = st.selectbox(\"ARE YOU GRADUATE?\",('Yes','No'))\n",
    "self_employed = st.selectbox(\"ARE YOU WORKING?\",('Yes','No'))\n",
    "applicant_income = st.number_input(\"APPLICANT INCOME\")\n",
    "coapplicant_income = st.number_input(\"COAPPLICANT INCOME\")\n",
    "loan_amount = st.number_input(\"LOAN AMOUNT\")\n",
    "loan_amount_term = st.selectbox(\"LOAN AMOUNT TERM\",('12','36','60','84','120','180','300','360','480'))\n",
    "credit_history = st.selectbox(\"CREDIT HISTORY\",('0','1'))\n",
    "property_area = st.selectbox(\"PROPERTY AREA\",('Rural','Semiurban','Urban'))\n",
    "\n",
    "data = pd.DataFrame({'Gender':gender,'Married':married,'Dependents':dependents,'Education':education,'Self_Employed':self_employed,'Applicant_income':applicant_income,'Coapplicant_income':coapplicant_income,'Loan_amount':loan_amount,'Loan_amount_term':loan_amount_term,'Credit_history':credit_history,'Property_Area':property_area}, index = [0])\n",
    "\n",
    "data['Gender'] = data['Gender'].replace(('Male','Female'),(1,0))\n",
    "data['Married'] = data['Married'].replace(('Yes','No'),(1,0))\n",
    "data['Education'] = data['Education'].replace(('Graduate','Not Graduate'),(1,0))\n",
    "data['Self_Employed'] = data['Self_Employed'].replace(('Yes','No'),(1,0))\n",
    "data['Property_Area'] = data['Property_Area'].replace(('Urban','Semiurban','Rural'),(1,1,0))\n",
    "data['Dependents'] = data['Dependents'].replace(('0','1'),(0,1))\n",
    "\n",
    "if st.button('SUBMIT'):\n",
    "    model = load()\n",
    "    prediction = model.predict(data.values)\n",
    "    if prediction == 0:\n",
    "        st.write(\"Sorry, You are not eligible for a Loan.\")\n",
    "    else:\n",
    "        st.write(\"Congrats! You are eligible for a loan.\")\n",
    "# In[ ]:\n",
    "\n",
    "\n",
    "\n",
    "\n"
   ]
  },
  {
   "cell_type": "code",
   "execution_count": 10,
   "id": "521e4af0",
   "metadata": {},
   "outputs": [
    {
     "data": {
      "text/plain": [
       "array([[1, 1, 0, 'Yes', 1, 0.0, 0.0, 0.0, '12', '0', 0]], dtype=object)"
      ]
     },
     "execution_count": 10,
     "metadata": {},
     "output_type": "execute_result"
    }
   ],
   "source": [
    "data.values"
   ]
  },
  {
   "cell_type": "code",
   "execution_count": 11,
   "id": "eb80809c",
   "metadata": {},
   "outputs": [
    {
     "name": "stdout",
     "output_type": "stream",
     "text": [
      "   Gender  Married  Dependents Education  Self_Employed  Applicant_income  \\\n",
      "0       1        1           0       Yes              1               0.0   \n",
      "\n",
      "   Coapplicant_income  Loan_amount Loan_amount_term Credit_history  \\\n",
      "0                 0.0          0.0               12              0   \n",
      "\n",
      "   Property_Area  \n",
      "0              0  \n"
     ]
    }
   ],
   "source": [
    "print(data)"
   ]
  },
  {
   "cell_type": "code",
   "execution_count": 12,
   "id": "7efe2f55",
   "metadata": {},
   "outputs": [],
   "source": [
    "data['Education'] = data['Education'].replace(('Graduate','Not Graduate'),(1,0))"
   ]
  },
  {
   "cell_type": "code",
   "execution_count": 13,
   "id": "b757dfeb",
   "metadata": {},
   "outputs": [
    {
     "name": "stdout",
     "output_type": "stream",
     "text": [
      "   Gender  Married  Dependents Education  Self_Employed  Applicant_income  \\\n",
      "0       1        1           0       Yes              1               0.0   \n",
      "\n",
      "   Coapplicant_income  Loan_amount Loan_amount_term Credit_history  \\\n",
      "0                 0.0          0.0               12              0   \n",
      "\n",
      "   Property_Area  \n",
      "0              0  \n"
     ]
    }
   ],
   "source": [
    "print(data)"
   ]
  },
  {
   "cell_type": "code",
   "execution_count": null,
   "id": "93e5bb28",
   "metadata": {},
   "outputs": [],
   "source": []
  }
 ],
 "metadata": {
  "kernelspec": {
   "display_name": "Python 3 (ipykernel)",
   "language": "python",
   "name": "python3"
  },
  "language_info": {
   "codemirror_mode": {
    "name": "ipython",
    "version": 3
   },
   "file_extension": ".py",
   "mimetype": "text/x-python",
   "name": "python",
   "nbconvert_exporter": "python",
   "pygments_lexer": "ipython3",
   "version": "3.9.13"
  }
 },
 "nbformat": 4,
 "nbformat_minor": 5
}
